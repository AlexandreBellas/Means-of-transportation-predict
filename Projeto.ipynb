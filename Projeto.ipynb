{
 "cells": [
  {
   "cell_type": "markdown",
   "metadata": {},
   "source": [
    "## 1\t– Considere\ta\tbase\tde\tdados\t(arquivo\tdataset_5secondWindow%5B1%5D.csv):\n",
    "\n",
    "### https://www.kaggle.com/fschwartzer/tmd-dataset-5-seconds-sliding-window"
   ]
  },
  {
   "cell_type": "markdown",
   "metadata": {},
   "source": [
    "## 2\t– Realize\to\tpré-processamento\tdos\tdados:\tVerifque\tse\thá\tNaN\tou\toutros\terros no\tdados.\tSelecione apenas\tos\tatributos\trelevantes\te\tnuméricos."
   ]
  },
  {
   "cell_type": "code",
   "execution_count": null,
   "metadata": {},
   "outputs": [],
   "source": []
  },
  {
   "cell_type": "markdown",
   "metadata": {},
   "source": [
    "## 3\t- No\tcaso\tdo\tclassificador\tKnn,\tverifique\to\tefeito\tdo\tparâmetro\tk\tna\tclassificação."
   ]
  },
  {
   "cell_type": "code",
   "execution_count": null,
   "metadata": {},
   "outputs": [],
   "source": []
  },
  {
   "cell_type": "markdown",
   "metadata": {},
   "source": [
    "## 4 – Compare\tos\tclassificadores:\n",
    "- ### knn (melhor\tk\tobservado\tno\titem\tanterior)\n",
    "- ### Naive\tBayes\n",
    "- ### Decisão\tBayesiana"
   ]
  },
  {
   "cell_type": "code",
   "execution_count": null,
   "metadata": {},
   "outputs": [],
   "source": []
  },
  {
   "cell_type": "markdown",
   "metadata": {},
   "source": [
    "## 5 – Verifique\to\tefeito\tda\tnormalização\t(atributos\tem\t[0,1])\te\tpadronização (atributos\tcom\tmédia\t0\te\tvariância\t1)\tdos\tdados.\tCompare\tos\tcasos\tsem\tprocessamento,\tcom\tpadronização\te\tcom\tnormalização\tpara\tos\tclassificadores:\n",
    "- ### knn\t(melhor\tk\tobservado\tno\titem\tanterior)\n",
    "- ### Naive\tBayes\n",
    "- ### Decisão\tBayesiana"
   ]
  },
  {
   "cell_type": "code",
   "execution_count": null,
   "metadata": {},
   "outputs": [],
   "source": []
  },
  {
   "cell_type": "markdown",
   "metadata": {},
   "source": [
    "## 6\t– Mostre\ta\tmatriz\tde\tcorrelação\tentre\tos\tatributos.\tConsidere\tos\tatributos\tcom\tmenor\tcorrelação\t(por\texemplo,\tmenor\tdo\tque\t0.5).\tRealize\ta\tclassificação\tnovamente\tapenas\tcom\tesses\tatributos.\tA\tacurácia\tmelhora?"
   ]
  },
  {
   "cell_type": "code",
   "execution_count": null,
   "metadata": {},
   "outputs": [],
   "source": []
  },
  {
   "cell_type": "markdown",
   "metadata": {},
   "source": [
    "## 7\t– Verifique\tqual\tdos\tclassificadores\té\tmais\trobusto\tcom\trelação\tà\tpresença\tde ruídos.\tPara\tisso:\t\n",
    "- ### Aplique\ta\tnormalização\tdos\tdados\tpara\tque\tos\tatributos\tapresentem\tmédia\tigual\ta\tzero\te\tvariância\tigual\ta\t1.\n",
    "- ### Inclua\tem\tX%\tdos\tatributos,\tum\tvalor\tnormalmente\tdistribuído\tcom\tmédia\tzero\te\tvariância\t1.\tConsidere\ttoda\ta\tmatriz\tdos\tdados,\tsorteando uma\tposição\tda\tmatriz\tde\tforma\taleatória.\n",
    "- ### Varie\to\tnível\tde\truído,\tde\t0\ta\t50%\t(em\tpassos\tde\t5%)\te\tavalie\tcomo\tmuda\ta\tclassificação.\tConstrua\tum\tgráfico\tde\tX% de\truído versus\tporcentagem\tde\tclassificação\tcorreta.\tColoque\ta\tmédia\te\to\tdesvio\tpadrão\tcalculados\ta\tpartir\tde\tao\tmenos\t10\tsimulações.\tConsidere\t70%\tdos\tdados\tno\tconjunto\tde\ttreinamento.\n",
    "- ### Discuta os\tresultados."
   ]
  },
  {
   "cell_type": "code",
   "execution_count": null,
   "metadata": {},
   "outputs": [],
   "source": []
  },
  {
   "cell_type": "markdown",
   "metadata": {},
   "source": [
    "## 8\t– No\tcaso\tdo\tclassificador\tNaive\tBayes,\té\tpossível\tconsiderar\tdiferentes\tfunções\tpara\testimar\tas\tprobabilidades.\tCompare\tos\tcasos:\t(i)\tGaussian\tNaive\tBayes,\t(ii)\tmultinomial\tNaive\tBayes e\t(iii) Bernoulli\tNaive\tBayes.\tConsidere\tos\tcasos\tcom\te\tsem\tpadronização."
   ]
  },
  {
   "cell_type": "code",
   "execution_count": null,
   "metadata": {},
   "outputs": [],
   "source": []
  },
  {
   "cell_type": "markdown",
   "metadata": {},
   "source": [
    "## 9\t– No\tcaso\tdo\tKnn,\tcompare\tas\tclassificações\tusando\tdiferentes\tmétricas.\tVarie k\te\tmostre\tas\tcurvas\t(em\tum\tmesmo\tplot)\tpara\tas\tdistâncias\teuclidiana,\tManhattan,\tChebyshev e\tMinkowsky\t(p=0.5,\tp=1.5,\tp\t=\t3)."
   ]
  },
  {
   "cell_type": "code",
   "execution_count": null,
   "metadata": {},
   "outputs": [],
   "source": []
  },
  {
   "cell_type": "markdown",
   "metadata": {},
   "source": [
    "## 10\t– Faça\tum\tgráfico\tda\tfração\tde\telementos\tno\tconjunto\tde\ttreinamento\t(10%\taté\t90%\tem\tpassos\tde\t10%)\tversus\tacurácia\tpara\tos\tclassificadores:\n",
    "- ### knn\t(melhor\tk\tobservado\tanteriormente)\n",
    "- ### Naive\tBayes\n",
    "- ### Decisão\tBayesiana\n",
    "## Considere\tos\tcasos\tcom\te\tsem\tpadronização."
   ]
  },
  {
   "cell_type": "code",
   "execution_count": null,
   "metadata": {},
   "outputs": [],
   "source": []
  }
 ],
 "metadata": {
  "kernelspec": {
   "display_name": "Python 3",
   "language": "python",
   "name": "python3"
  },
  "language_info": {
   "codemirror_mode": {
    "name": "ipython",
    "version": 3
   },
   "file_extension": ".py",
   "mimetype": "text/x-python",
   "name": "python",
   "nbconvert_exporter": "python",
   "pygments_lexer": "ipython3",
   "version": "3.7.1"
  }
 },
 "nbformat": 4,
 "nbformat_minor": 2
}
