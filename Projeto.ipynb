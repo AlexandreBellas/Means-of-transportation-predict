{
 "cells": [
  {
   "cell_type": "markdown",
   "metadata": {},
   "source": [
    "# Mineração Estatística de Dados\n",
    "## Projeto 1: Pré-processamento de dados e classificação"
   ]
  },
  {
   "cell_type": "markdown",
   "metadata": {},
   "source": [
    "### Alunos\n",
    "- Alexandre Batistellas Bellas&emsp;&emsp;&emsp;&nbsp;&emsp;9763168\n",
    "- Juan Carlos Elias Obando Valdivia&emsp;&nbsp;7487156"
   ]
  },
  {
   "cell_type": "markdown",
   "metadata": {},
   "source": [
    "## 1 – Considere a base de dados (arquivo dataset_5secondWindow%5B1%5D.csv):\n",
    "## https://www.kaggle.com/fschwartzer/tmd-dataset-5-seconds-sliding-window"
   ]
  },
  {
   "cell_type": "markdown",
   "metadata": {},
   "source": [
    "## 2 – Realize o pré-processamento dos dados: Verifque se há NaN ou outros erros no dados. Selecione apenas os atributos relevantes e numéricos."
   ]
  },
  {
   "cell_type": "markdown",
   "metadata": {},
   "source": [
    "### Leitura e pre-processamento dos dados"
   ]
  },
  {
   "cell_type": "markdown",
   "metadata": {},
   "source": [
    "Vamos ler o conjunto de dados:"
   ]
  },
  {
   "cell_type": "code",
   "execution_count": 1,
   "metadata": {
    "scrolled": true
   },
   "outputs": [
    {
     "name": "stdout",
     "output_type": "stream",
     "text": [
      "(5893, 14)\n"
     ]
    },
    {
     "data": {
      "text/html": [
       "<div>\n",
       "<style scoped>\n",
       "    .dataframe tbody tr th:only-of-type {\n",
       "        vertical-align: middle;\n",
       "    }\n",
       "\n",
       "    .dataframe tbody tr th {\n",
       "        vertical-align: top;\n",
       "    }\n",
       "\n",
       "    .dataframe thead th {\n",
       "        text-align: right;\n",
       "    }\n",
       "</style>\n",
       "<table border=\"1\" class=\"dataframe\">\n",
       "  <thead>\n",
       "    <tr style=\"text-align: right;\">\n",
       "      <th></th>\n",
       "      <th>time</th>\n",
       "      <th>android.sensor.accelerometer#mean</th>\n",
       "      <th>android.sensor.accelerometer#min</th>\n",
       "      <th>android.sensor.accelerometer#max</th>\n",
       "      <th>android.sensor.accelerometer#std</th>\n",
       "      <th>android.sensor.gyroscope#mean</th>\n",
       "      <th>android.sensor.gyroscope#min</th>\n",
       "      <th>android.sensor.gyroscope#max</th>\n",
       "      <th>android.sensor.gyroscope#std</th>\n",
       "      <th>sound#mean</th>\n",
       "      <th>sound#min</th>\n",
       "      <th>sound#max</th>\n",
       "      <th>sound#std</th>\n",
       "      <th>target</th>\n",
       "    </tr>\n",
       "  </thead>\n",
       "  <tbody>\n",
       "    <tr>\n",
       "      <th>0</th>\n",
       "      <td>78.0</td>\n",
       "      <td>9.811476</td>\n",
       "      <td>9.758895</td>\n",
       "      <td>9.849411</td>\n",
       "      <td>0.014626</td>\n",
       "      <td>0.001651</td>\n",
       "      <td>0.000000</td>\n",
       "      <td>0.003533</td>\n",
       "      <td>0.000737</td>\n",
       "      <td>0.000000</td>\n",
       "      <td>0.000000</td>\n",
       "      <td>0.000000</td>\n",
       "      <td>0.000000</td>\n",
       "      <td>Still</td>\n",
       "    </tr>\n",
       "    <tr>\n",
       "      <th>1</th>\n",
       "      <td>145.0</td>\n",
       "      <td>9.939207</td>\n",
       "      <td>7.707437</td>\n",
       "      <td>17.146631</td>\n",
       "      <td>1.775944</td>\n",
       "      <td>0.036326</td>\n",
       "      <td>0.011669</td>\n",
       "      <td>0.059388</td>\n",
       "      <td>0.020290</td>\n",
       "      <td>89.200210</td>\n",
       "      <td>89.065143</td>\n",
       "      <td>89.335277</td>\n",
       "      <td>0.191013</td>\n",
       "      <td>Car</td>\n",
       "    </tr>\n",
       "    <tr>\n",
       "      <th>2</th>\n",
       "      <td>150.0</td>\n",
       "      <td>9.827178</td>\n",
       "      <td>9.804817</td>\n",
       "      <td>9.849262</td>\n",
       "      <td>0.011199</td>\n",
       "      <td>0.001525</td>\n",
       "      <td>0.000000</td>\n",
       "      <td>0.002609</td>\n",
       "      <td>0.000713</td>\n",
       "      <td>0.000000</td>\n",
       "      <td>0.000000</td>\n",
       "      <td>0.000000</td>\n",
       "      <td>0.000000</td>\n",
       "      <td>Still</td>\n",
       "    </tr>\n",
       "    <tr>\n",
       "      <th>3</th>\n",
       "      <td>105.0</td>\n",
       "      <td>9.673039</td>\n",
       "      <td>7.659674</td>\n",
       "      <td>12.304298</td>\n",
       "      <td>0.862553</td>\n",
       "      <td>0.036440</td>\n",
       "      <td>0.020463</td>\n",
       "      <td>0.052512</td>\n",
       "      <td>0.010553</td>\n",
       "      <td>87.470377</td>\n",
       "      <td>87.470377</td>\n",
       "      <td>87.470377</td>\n",
       "      <td>2.284186</td>\n",
       "      <td>Car</td>\n",
       "    </tr>\n",
       "    <tr>\n",
       "      <th>4</th>\n",
       "      <td>77.0</td>\n",
       "      <td>9.993466</td>\n",
       "      <td>8.965621</td>\n",
       "      <td>10.891645</td>\n",
       "      <td>0.504117</td>\n",
       "      <td>0.183202</td>\n",
       "      <td>0.020667</td>\n",
       "      <td>0.380875</td>\n",
       "      <td>0.098819</td>\n",
       "      <td>89.770732</td>\n",
       "      <td>89.770732</td>\n",
       "      <td>89.770732</td>\n",
       "      <td>0.006389</td>\n",
       "      <td>Car</td>\n",
       "    </tr>\n",
       "    <tr>\n",
       "      <th>5</th>\n",
       "      <td>559.0</td>\n",
       "      <td>9.330482</td>\n",
       "      <td>9.149029</td>\n",
       "      <td>9.520044</td>\n",
       "      <td>0.103857</td>\n",
       "      <td>0.000000</td>\n",
       "      <td>0.000000</td>\n",
       "      <td>0.000000</td>\n",
       "      <td>0.000000</td>\n",
       "      <td>57.361127</td>\n",
       "      <td>57.361127</td>\n",
       "      <td>57.361127</td>\n",
       "      <td>1.006611</td>\n",
       "      <td>Car</td>\n",
       "    </tr>\n",
       "    <tr>\n",
       "      <th>6</th>\n",
       "      <td>41.0</td>\n",
       "      <td>9.789771</td>\n",
       "      <td>9.758751</td>\n",
       "      <td>9.816197</td>\n",
       "      <td>0.013489</td>\n",
       "      <td>0.004100</td>\n",
       "      <td>0.002732</td>\n",
       "      <td>0.006579</td>\n",
       "      <td>0.001801</td>\n",
       "      <td>65.158369</td>\n",
       "      <td>65.158369</td>\n",
       "      <td>65.158369</td>\n",
       "      <td>0.000000</td>\n",
       "      <td>Train</td>\n",
       "    </tr>\n",
       "    <tr>\n",
       "      <th>7</th>\n",
       "      <td>20.0</td>\n",
       "      <td>9.906011</td>\n",
       "      <td>6.431646</td>\n",
       "      <td>14.202603</td>\n",
       "      <td>1.044684</td>\n",
       "      <td>0.140902</td>\n",
       "      <td>0.006567</td>\n",
       "      <td>0.690414</td>\n",
       "      <td>0.119667</td>\n",
       "      <td>0.000000</td>\n",
       "      <td>0.000000</td>\n",
       "      <td>0.000000</td>\n",
       "      <td>0.000000</td>\n",
       "      <td>Bus</td>\n",
       "    </tr>\n",
       "    <tr>\n",
       "      <th>8</th>\n",
       "      <td>35.0</td>\n",
       "      <td>9.639711</td>\n",
       "      <td>8.996134</td>\n",
       "      <td>10.027802</td>\n",
       "      <td>0.255053</td>\n",
       "      <td>0.041554</td>\n",
       "      <td>0.008014</td>\n",
       "      <td>0.123026</td>\n",
       "      <td>0.030074</td>\n",
       "      <td>89.808441</td>\n",
       "      <td>89.808441</td>\n",
       "      <td>89.808441</td>\n",
       "      <td>0.010171</td>\n",
       "      <td>Bus</td>\n",
       "    </tr>\n",
       "    <tr>\n",
       "      <th>9</th>\n",
       "      <td>27.0</td>\n",
       "      <td>9.602109</td>\n",
       "      <td>9.014786</td>\n",
       "      <td>10.068528</td>\n",
       "      <td>0.267791</td>\n",
       "      <td>0.037451</td>\n",
       "      <td>0.007174</td>\n",
       "      <td>0.084820</td>\n",
       "      <td>0.021391</td>\n",
       "      <td>89.815738</td>\n",
       "      <td>89.815738</td>\n",
       "      <td>89.815738</td>\n",
       "      <td>0.004995</td>\n",
       "      <td>Train</td>\n",
       "    </tr>\n",
       "  </tbody>\n",
       "</table>\n",
       "</div>"
      ],
      "text/plain": [
       "    time  android.sensor.accelerometer#mean  android.sensor.accelerometer#min  \\\n",
       "0   78.0                           9.811476                          9.758895   \n",
       "1  145.0                           9.939207                          7.707437   \n",
       "2  150.0                           9.827178                          9.804817   \n",
       "3  105.0                           9.673039                          7.659674   \n",
       "4   77.0                           9.993466                          8.965621   \n",
       "5  559.0                           9.330482                          9.149029   \n",
       "6   41.0                           9.789771                          9.758751   \n",
       "7   20.0                           9.906011                          6.431646   \n",
       "8   35.0                           9.639711                          8.996134   \n",
       "9   27.0                           9.602109                          9.014786   \n",
       "\n",
       "   android.sensor.accelerometer#max  android.sensor.accelerometer#std  \\\n",
       "0                          9.849411                          0.014626   \n",
       "1                         17.146631                          1.775944   \n",
       "2                          9.849262                          0.011199   \n",
       "3                         12.304298                          0.862553   \n",
       "4                         10.891645                          0.504117   \n",
       "5                          9.520044                          0.103857   \n",
       "6                          9.816197                          0.013489   \n",
       "7                         14.202603                          1.044684   \n",
       "8                         10.027802                          0.255053   \n",
       "9                         10.068528                          0.267791   \n",
       "\n",
       "   android.sensor.gyroscope#mean  android.sensor.gyroscope#min  \\\n",
       "0                       0.001651                      0.000000   \n",
       "1                       0.036326                      0.011669   \n",
       "2                       0.001525                      0.000000   \n",
       "3                       0.036440                      0.020463   \n",
       "4                       0.183202                      0.020667   \n",
       "5                       0.000000                      0.000000   \n",
       "6                       0.004100                      0.002732   \n",
       "7                       0.140902                      0.006567   \n",
       "8                       0.041554                      0.008014   \n",
       "9                       0.037451                      0.007174   \n",
       "\n",
       "   android.sensor.gyroscope#max  android.sensor.gyroscope#std  sound#mean  \\\n",
       "0                      0.003533                      0.000737    0.000000   \n",
       "1                      0.059388                      0.020290   89.200210   \n",
       "2                      0.002609                      0.000713    0.000000   \n",
       "3                      0.052512                      0.010553   87.470377   \n",
       "4                      0.380875                      0.098819   89.770732   \n",
       "5                      0.000000                      0.000000   57.361127   \n",
       "6                      0.006579                      0.001801   65.158369   \n",
       "7                      0.690414                      0.119667    0.000000   \n",
       "8                      0.123026                      0.030074   89.808441   \n",
       "9                      0.084820                      0.021391   89.815738   \n",
       "\n",
       "   sound#min  sound#max  sound#std target  \n",
       "0   0.000000   0.000000   0.000000  Still  \n",
       "1  89.065143  89.335277   0.191013    Car  \n",
       "2   0.000000   0.000000   0.000000  Still  \n",
       "3  87.470377  87.470377   2.284186    Car  \n",
       "4  89.770732  89.770732   0.006389    Car  \n",
       "5  57.361127  57.361127   1.006611    Car  \n",
       "6  65.158369  65.158369   0.000000  Train  \n",
       "7   0.000000   0.000000   0.000000    Bus  \n",
       "8  89.808441  89.808441   0.010171    Bus  \n",
       "9  89.815738  89.815738   0.004995  Train  "
      ]
     },
     "execution_count": 1,
     "metadata": {},
     "output_type": "execute_result"
    }
   ],
   "source": [
    "import random\n",
    "import pandas as pd\n",
    "import matplotlib.pyplot as plt\n",
    "import numpy as np\n",
    "\n",
    "random.seed(1)\n",
    "\n",
    "#Lendo o arquivo CSV\n",
    "features = pd.read_csv(\"data/dataset_5secondWindow%5B1%5D.csv\", header=(0))\n",
    "print(features.shape)\n",
    "\n",
    "features.head(10)"
   ]
  },
  {
   "cell_type": "markdown",
   "metadata": {},
   "source": [
    "Primeiramente, vamos remover as linhas com \"?\" e com \"NaN\" do arquivo, apagando as linhas que contém esse problema:"
   ]
  },
  {
   "cell_type": "code",
   "execution_count": 2,
   "metadata": {},
   "outputs": [
    {
     "name": "stdout",
     "output_type": "stream",
     "text": [
      "(5893, 14)\n"
     ]
    }
   ],
   "source": [
    "features = features.replace('?', np.nan)\n",
    "features = features.dropna()\n",
    "print(features.shape)"
   ]
  },
  {
   "cell_type": "markdown",
   "metadata": {},
   "source": [
    "Vamos remover as linhas duplicadas:"
   ]
  },
  {
   "cell_type": "code",
   "execution_count": 3,
   "metadata": {},
   "outputs": [
    {
     "name": "stdout",
     "output_type": "stream",
     "text": [
      "(5893, 14)\n"
     ]
    }
   ],
   "source": [
    "features.duplicated()\n",
    "features = features.drop_duplicates()\n",
    "print(features.shape)"
   ]
  },
  {
   "cell_type": "markdown",
   "metadata": {},
   "source": [
    "Obtendo as classes únicas no conjunto de dados:"
   ]
  },
  {
   "cell_type": "code",
   "execution_count": 4,
   "metadata": {
    "scrolled": true
   },
   "outputs": [
    {
     "name": "stdout",
     "output_type": "stream",
     "text": [
      "Classes únicas no conjunto de dados: ['Still' 'Car' 'Train' 'Bus' 'Walking']\n",
      "\n",
      "Nomes dos atributos e classe:\n",
      " ['time', 'android.sensor.accelerometer#mean', 'android.sensor.accelerometer#min', 'android.sensor.accelerometer#max', 'android.sensor.accelerometer#std', 'android.sensor.gyroscope#mean', 'android.sensor.gyroscope#min', 'android.sensor.gyroscope#max', 'android.sensor.gyroscope#std', 'sound#mean', 'sound#min', 'sound#max', 'sound#std', 'target']\n"
     ]
    }
   ],
   "source": [
    "classes = pd.unique(features[features.columns[-1]]) #name of the classes\n",
    "classes = np.array(classes, dtype=str) #convert on array\n",
    "\n",
    "print(\"Classes únicas no conjunto de dados:\", classes)\n",
    "\n",
    "list_labels = list(features.columns)\n",
    "print(\"\\nNomes dos atributos e classe:\\n\",list_labels)"
   ]
  },
  {
   "cell_type": "markdown",
   "metadata": {},
   "source": [
    "Vamos construir as variáveis $X$ e $Y$, sendo que o processo classificação se resume em estimar a função $f$ na relação $Y=f(X)+\\epsilon$, onde $\\epsilon$ é o erro, que tem distribuição normal com média igual a zero e variância $\\sigma^2$."
   ]
  },
  {
   "cell_type": "code",
   "execution_count": 5,
   "metadata": {
    "scrolled": false
   },
   "outputs": [
    {
     "data": {
      "text/html": [
       "<div>\n",
       "<style scoped>\n",
       "    .dataframe tbody tr th:only-of-type {\n",
       "        vertical-align: middle;\n",
       "    }\n",
       "\n",
       "    .dataframe tbody tr th {\n",
       "        vertical-align: top;\n",
       "    }\n",
       "\n",
       "    .dataframe thead th {\n",
       "        text-align: right;\n",
       "    }\n",
       "</style>\n",
       "<table border=\"1\" class=\"dataframe\">\n",
       "  <thead>\n",
       "    <tr style=\"text-align: right;\">\n",
       "      <th></th>\n",
       "      <th>time</th>\n",
       "      <th>android.sensor.accelerometer#mean</th>\n",
       "      <th>android.sensor.accelerometer#min</th>\n",
       "      <th>android.sensor.accelerometer#max</th>\n",
       "      <th>android.sensor.accelerometer#std</th>\n",
       "      <th>android.sensor.gyroscope#mean</th>\n",
       "      <th>android.sensor.gyroscope#min</th>\n",
       "      <th>android.sensor.gyroscope#max</th>\n",
       "      <th>android.sensor.gyroscope#std</th>\n",
       "      <th>sound#mean</th>\n",
       "      <th>sound#min</th>\n",
       "      <th>sound#max</th>\n",
       "      <th>sound#std</th>\n",
       "    </tr>\n",
       "  </thead>\n",
       "  <tbody>\n",
       "    <tr>\n",
       "      <th>0</th>\n",
       "      <td>78.0</td>\n",
       "      <td>9.811476</td>\n",
       "      <td>9.758895</td>\n",
       "      <td>9.849411</td>\n",
       "      <td>0.014626</td>\n",
       "      <td>0.001651</td>\n",
       "      <td>0.000000</td>\n",
       "      <td>0.003533</td>\n",
       "      <td>0.000737</td>\n",
       "      <td>0.000000</td>\n",
       "      <td>0.000000</td>\n",
       "      <td>0.000000</td>\n",
       "      <td>0.000000</td>\n",
       "    </tr>\n",
       "    <tr>\n",
       "      <th>1</th>\n",
       "      <td>145.0</td>\n",
       "      <td>9.939207</td>\n",
       "      <td>7.707437</td>\n",
       "      <td>17.146631</td>\n",
       "      <td>1.775944</td>\n",
       "      <td>0.036326</td>\n",
       "      <td>0.011669</td>\n",
       "      <td>0.059388</td>\n",
       "      <td>0.020290</td>\n",
       "      <td>89.200210</td>\n",
       "      <td>89.065143</td>\n",
       "      <td>89.335277</td>\n",
       "      <td>0.191013</td>\n",
       "    </tr>\n",
       "    <tr>\n",
       "      <th>2</th>\n",
       "      <td>150.0</td>\n",
       "      <td>9.827178</td>\n",
       "      <td>9.804817</td>\n",
       "      <td>9.849262</td>\n",
       "      <td>0.011199</td>\n",
       "      <td>0.001525</td>\n",
       "      <td>0.000000</td>\n",
       "      <td>0.002609</td>\n",
       "      <td>0.000713</td>\n",
       "      <td>0.000000</td>\n",
       "      <td>0.000000</td>\n",
       "      <td>0.000000</td>\n",
       "      <td>0.000000</td>\n",
       "    </tr>\n",
       "    <tr>\n",
       "      <th>3</th>\n",
       "      <td>105.0</td>\n",
       "      <td>9.673039</td>\n",
       "      <td>7.659674</td>\n",
       "      <td>12.304298</td>\n",
       "      <td>0.862553</td>\n",
       "      <td>0.036440</td>\n",
       "      <td>0.020463</td>\n",
       "      <td>0.052512</td>\n",
       "      <td>0.010553</td>\n",
       "      <td>87.470377</td>\n",
       "      <td>87.470377</td>\n",
       "      <td>87.470377</td>\n",
       "      <td>2.284186</td>\n",
       "    </tr>\n",
       "    <tr>\n",
       "      <th>4</th>\n",
       "      <td>77.0</td>\n",
       "      <td>9.993466</td>\n",
       "      <td>8.965621</td>\n",
       "      <td>10.891645</td>\n",
       "      <td>0.504117</td>\n",
       "      <td>0.183202</td>\n",
       "      <td>0.020667</td>\n",
       "      <td>0.380875</td>\n",
       "      <td>0.098819</td>\n",
       "      <td>89.770732</td>\n",
       "      <td>89.770732</td>\n",
       "      <td>89.770732</td>\n",
       "      <td>0.006389</td>\n",
       "    </tr>\n",
       "    <tr>\n",
       "      <th>5</th>\n",
       "      <td>559.0</td>\n",
       "      <td>9.330482</td>\n",
       "      <td>9.149029</td>\n",
       "      <td>9.520044</td>\n",
       "      <td>0.103857</td>\n",
       "      <td>0.000000</td>\n",
       "      <td>0.000000</td>\n",
       "      <td>0.000000</td>\n",
       "      <td>0.000000</td>\n",
       "      <td>57.361127</td>\n",
       "      <td>57.361127</td>\n",
       "      <td>57.361127</td>\n",
       "      <td>1.006611</td>\n",
       "    </tr>\n",
       "    <tr>\n",
       "      <th>6</th>\n",
       "      <td>41.0</td>\n",
       "      <td>9.789771</td>\n",
       "      <td>9.758751</td>\n",
       "      <td>9.816197</td>\n",
       "      <td>0.013489</td>\n",
       "      <td>0.004100</td>\n",
       "      <td>0.002732</td>\n",
       "      <td>0.006579</td>\n",
       "      <td>0.001801</td>\n",
       "      <td>65.158369</td>\n",
       "      <td>65.158369</td>\n",
       "      <td>65.158369</td>\n",
       "      <td>0.000000</td>\n",
       "    </tr>\n",
       "    <tr>\n",
       "      <th>7</th>\n",
       "      <td>20.0</td>\n",
       "      <td>9.906011</td>\n",
       "      <td>6.431646</td>\n",
       "      <td>14.202603</td>\n",
       "      <td>1.044684</td>\n",
       "      <td>0.140902</td>\n",
       "      <td>0.006567</td>\n",
       "      <td>0.690414</td>\n",
       "      <td>0.119667</td>\n",
       "      <td>0.000000</td>\n",
       "      <td>0.000000</td>\n",
       "      <td>0.000000</td>\n",
       "      <td>0.000000</td>\n",
       "    </tr>\n",
       "    <tr>\n",
       "      <th>8</th>\n",
       "      <td>35.0</td>\n",
       "      <td>9.639711</td>\n",
       "      <td>8.996134</td>\n",
       "      <td>10.027802</td>\n",
       "      <td>0.255053</td>\n",
       "      <td>0.041554</td>\n",
       "      <td>0.008014</td>\n",
       "      <td>0.123026</td>\n",
       "      <td>0.030074</td>\n",
       "      <td>89.808441</td>\n",
       "      <td>89.808441</td>\n",
       "      <td>89.808441</td>\n",
       "      <td>0.010171</td>\n",
       "    </tr>\n",
       "    <tr>\n",
       "      <th>9</th>\n",
       "      <td>27.0</td>\n",
       "      <td>9.602109</td>\n",
       "      <td>9.014786</td>\n",
       "      <td>10.068528</td>\n",
       "      <td>0.267791</td>\n",
       "      <td>0.037451</td>\n",
       "      <td>0.007174</td>\n",
       "      <td>0.084820</td>\n",
       "      <td>0.021391</td>\n",
       "      <td>89.815738</td>\n",
       "      <td>89.815738</td>\n",
       "      <td>89.815738</td>\n",
       "      <td>0.004995</td>\n",
       "    </tr>\n",
       "  </tbody>\n",
       "</table>\n",
       "</div>"
      ],
      "text/plain": [
       "    time  android.sensor.accelerometer#mean  android.sensor.accelerometer#min  \\\n",
       "0   78.0                           9.811476                          9.758895   \n",
       "1  145.0                           9.939207                          7.707437   \n",
       "2  150.0                           9.827178                          9.804817   \n",
       "3  105.0                           9.673039                          7.659674   \n",
       "4   77.0                           9.993466                          8.965621   \n",
       "5  559.0                           9.330482                          9.149029   \n",
       "6   41.0                           9.789771                          9.758751   \n",
       "7   20.0                           9.906011                          6.431646   \n",
       "8   35.0                           9.639711                          8.996134   \n",
       "9   27.0                           9.602109                          9.014786   \n",
       "\n",
       "   android.sensor.accelerometer#max  android.sensor.accelerometer#std  \\\n",
       "0                          9.849411                          0.014626   \n",
       "1                         17.146631                          1.775944   \n",
       "2                          9.849262                          0.011199   \n",
       "3                         12.304298                          0.862553   \n",
       "4                         10.891645                          0.504117   \n",
       "5                          9.520044                          0.103857   \n",
       "6                          9.816197                          0.013489   \n",
       "7                         14.202603                          1.044684   \n",
       "8                         10.027802                          0.255053   \n",
       "9                         10.068528                          0.267791   \n",
       "\n",
       "   android.sensor.gyroscope#mean  android.sensor.gyroscope#min  \\\n",
       "0                       0.001651                      0.000000   \n",
       "1                       0.036326                      0.011669   \n",
       "2                       0.001525                      0.000000   \n",
       "3                       0.036440                      0.020463   \n",
       "4                       0.183202                      0.020667   \n",
       "5                       0.000000                      0.000000   \n",
       "6                       0.004100                      0.002732   \n",
       "7                       0.140902                      0.006567   \n",
       "8                       0.041554                      0.008014   \n",
       "9                       0.037451                      0.007174   \n",
       "\n",
       "   android.sensor.gyroscope#max  android.sensor.gyroscope#std  sound#mean  \\\n",
       "0                      0.003533                      0.000737    0.000000   \n",
       "1                      0.059388                      0.020290   89.200210   \n",
       "2                      0.002609                      0.000713    0.000000   \n",
       "3                      0.052512                      0.010553   87.470377   \n",
       "4                      0.380875                      0.098819   89.770732   \n",
       "5                      0.000000                      0.000000   57.361127   \n",
       "6                      0.006579                      0.001801   65.158369   \n",
       "7                      0.690414                      0.119667    0.000000   \n",
       "8                      0.123026                      0.030074   89.808441   \n",
       "9                      0.084820                      0.021391   89.815738   \n",
       "\n",
       "   sound#min  sound#max  sound#std  \n",
       "0   0.000000   0.000000   0.000000  \n",
       "1  89.065143  89.335277   0.191013  \n",
       "2   0.000000   0.000000   0.000000  \n",
       "3  87.470377  87.470377   2.284186  \n",
       "4  89.770732  89.770732   0.006389  \n",
       "5  57.361127  57.361127   1.006611  \n",
       "6  65.158369  65.158369   0.000000  \n",
       "7   0.000000   0.000000   0.000000  \n",
       "8  89.808441  89.808441   0.010171  \n",
       "9  89.815738  89.815738   0.004995  "
      ]
     },
     "execution_count": 5,
     "metadata": {},
     "output_type": "execute_result"
    }
   ],
   "source": [
    "#Obtendo a coluna de classes\n",
    "Y = np.array(features[list_labels[-1]], dtype=str)\n",
    "\n",
    "#Remove the labels from the features\n",
    "#axis 1 refers to the columns\n",
    "features = features.drop(list_labels[-1], axis = 1)\n",
    "\n",
    "#Convert to numpy array\n",
    "X = np.array(features)\n",
    "\n",
    "features.head(10)"
   ]
  },
  {
   "cell_type": "markdown",
   "metadata": {},
   "source": [
    "Verificando o balanceamento das classes:"
   ]
  },
  {
   "cell_type": "code",
   "execution_count": 6,
   "metadata": {},
   "outputs": [
    {
     "name": "stdout",
     "output_type": "stream",
     "text": [
      "[1178. 1180. 1179. 1179. 1177.]\n"
     ]
    }
   ],
   "source": [
    "cl = np.unique(Y)\n",
    "ncl = np.zeros(len(cl))\n",
    "for i in np.arange(0, len(cl)):\n",
    "    a = Y == cl[i]\n",
    "    ncl[i] = len(Y[a])\n",
    "print(ncl)"
   ]
  },
  {
   "cell_type": "code",
   "execution_count": 7,
   "metadata": {},
   "outputs": [
    {
     "data": {
      "image/png": "[encoded data removed]",
      "text/plain": [
       "<Figure size 432x288 with 1 Axes>"
      ]
     },
     "metadata": {
      "needs_background": "light"
     },
     "output_type": "display_data"
    }
   ],
   "source": [
    "numbers = np.arange(0, len(cl))\n",
    "plt.bar(numbers, ncl, alpha=.75)\n",
    "plt.xticks(numbers, cl)\n",
    "plt.title('Número de elementos em cada classe')\n",
    "plt.show(True)"
   ]
  },
  {
   "cell_type": "code",
   "execution_count": 8,
   "metadata": {},
   "outputs": [
    {
     "name": "stdout",
     "output_type": "stream",
     "text": [
      "['time', 'android.sensor.accelerometer#mean', 'android.sensor.accelerometer#min', 'android.sensor.accelerometer#max', 'android.sensor.accelerometer#std', 'android.sensor.gyroscope#mean', 'android.sensor.gyroscope#min', 'android.sensor.gyroscope#max', 'android.sensor.gyroscope#std', 'sound#mean', 'sound#min', 'sound#max', 'sound#std']\n"
     ]
    }
   ],
   "source": [
    "#Saving feature names for later use\n",
    "feature_list = list(features.columns)\n",
    "print(feature_list)"
   ]
  },
  {
   "cell_type": "markdown",
   "metadata": {},
   "source": [
    "### Conjuntos de teste e treinamento"
   ]
  },
  {
   "cell_type": "markdown",
   "metadata": {},
   "source": [
    "Para treinar o classificador, precisamos definir o conjunto de teste e treinamento."
   ]
  },
  {
   "cell_type": "code",
   "execution_count": 9,
   "metadata": {},
   "outputs": [],
   "source": [
    "from sklearn.model_selection import train_test_split\n",
    "# Split the data into training and testing sets\n",
    "p = 0.7\n",
    "train_x, test_x, train_y, test_y = train_test_split(X, Y, test_size = 1-p, random_state = 42)"
   ]
  },
  {
   "cell_type": "markdown",
   "metadata": {},
   "source": [
    "A partir desses dados, podemos realizar o processo de classificação."
   ]
  },
  {
   "cell_type": "markdown",
   "metadata": {},
   "source": [
    "## 3 - No caso do classificador Knn, verifique o efeito do parâmetro k na classificação."
   ]
  },
  {
   "cell_type": "markdown",
   "metadata": {},
   "source": [
    "\n",
    "### k-vizinhos\n",
    "\n",
    "Podemos realizar a classificação usando a biblioteca scikit-learn (https://scikit-learn.org). As métricas possíveis podem ser vistas em: https://scikit-learn.org/stable/modules/generated/sklearn.neighbors.DistanceMetric.html"
   ]
  },
  {
   "cell_type": "code",
   "execution_count": 10,
   "metadata": {
    "scrolled": false
   },
   "outputs": [
    {
     "data": {
      "image/png": "[encoded data removed]",
      "text/plain": [
       "<Figure size 1080x720 with 1 Axes>"
      ]
     },
     "metadata": {
      "needs_background": "light"
     },
     "output_type": "display_data"
    }
   ],
   "source": [
    "from sklearn.neighbors import KNeighborsClassifier\n",
    "from sklearn.metrics import accuracy_score\n",
    "\n",
    "vscore = []\n",
    "vk = []\n",
    "for k in np.arange(1, 15):\n",
    "    model = KNeighborsClassifier(n_neighbors=k)\n",
    "    # Train the model using the training sets\n",
    "    model.fit(train_x,train_y)\n",
    "    #Predict Output\n",
    "    pred_y = model.predict(test_x)\n",
    "    score = accuracy_score(pred_y, test_y)\n",
    "    vscore.append(score)\n",
    "    vk.append(k)\n",
    "\n",
    "plt.figure(figsize=(15,10))\n",
    "plt.plot(vk, vscore, marker='s', linestyle='-', color=\"blue\", linewidth=2.5)\n",
    "plt.xlabel(\"k\", fontsize=20)\n",
    "plt.ylabel(\"Accuracy\", fontsize=20)\n",
    "plt.grid(True)\n",
    "plt.show(True)"
   ]
  },
  {
   "cell_type": "markdown",
   "metadata": {},
   "source": [
    "## 4 – Compare\tos\tclassificadores:\n",
    "- ### knn (melhor\tk\tobservado\tno\titem\tanterior)\n",
    "- ### Decisão\tBayesiana\n",
    "- ### Naive\tBayes"
   ]
  },
  {
   "cell_type": "markdown",
   "metadata": {},
   "source": [
    "### Classificador Bayesiano"
   ]
  },
  {
   "cell_type": "markdown",
   "metadata": {},
   "source": [
    "Vamos considerar o caso paramétrico, assumindo que cada variável está distribuída de acordo com uma distribuição Normal.\n",
    "\n",
    "Já selecionamos os conjuntos de treinamento e teste. No conjunto de treinamento, vamos calcular a média e desvio padrão de cada atributo para cada classe. A seguir, reaizamos a classificação, dos dados usando a teoria da decisão Bayesiana, isto é: X∈Ci se, e somente se, P(Ci|X)=maxP(Cj|X) para todo j."
   ]
  },
  {
   "cell_type": "code",
   "execution_count": 11,
   "metadata": {},
   "outputs": [],
   "source": [
    "from scipy.stats import multivariate_normal\n",
    "#matrix to store the probabilities\n",
    "P = pd.DataFrame(data=np.zeros((train_x.shape[0], len(classes))), columns= classes)"
   ]
  },
  {
   "cell_type": "code",
   "execution_count": 12,
   "metadata": {},
   "outputs": [],
   "source": [
    "for i in np.arange(0, len(classes)):\n",
    "    #elements tem todos os identificadores dos exemplos do conjunto de treinamento cujo rótulo é classe[i] \n",
    "    elements = tuple(np.where(train_y == classes[i]))\n",
    "    #Z contém todos os exemplos do conjunto de treinamento cujo rótulo é classe[i]\n",
    "    Z = train_x[elements,:][0]\n",
    "    #calcula a média por coluna(axis = 0)\n",
    "    m = np.mean(Z, axis = 0)\n",
    "    #calcula a covariancia da transposta de Z\n",
    "    cv = np.cov(np.transpose(Z))\n",
    "    #para cada exemplo do conjunto de teste\n",
    "    for j in np.arange(0, test_x.shape[0]):\n",
    "        #pega cada exemplo do conjunto de teste(todos os atributos)\n",
    "        x = test_x[j,:]\n",
    "        # probability density function for multivariate_normal is\n",
    "        #f(x) = \\frac{1}{\\sqrt{(2 \\pi)^k \\det \\Sigma}} \\exp\\left( -\\frac{1}{2} (x - \\mu)^T \\Sigma^{-1} (x - \\mu) \\right),\n",
    "        pj = multivariate_normal.pdf(x, mean=m, cov=cv)\n",
    "        P[classes[i]][j] = pj"
   ]
  },
  {
   "cell_type": "code",
   "execution_count": 13,
   "metadata": {},
   "outputs": [],
   "source": [
    "pred_y = []\n",
    "#np.array(test_x.shape[0], dtype=str)\n",
    "#para cada exemplo do conjunto de teste \n",
    "for i in np.arange(0, test_x.shape[0]):\n",
    "    #pegar o identificador da coluna com maior probabilidade de cada exemplo\n",
    "    c = np.argmax(np.array(P.iloc[[i]]))\n",
    "    pred_y.append(classes[c])\n",
    "pred_y = np.array(pred_y, dtype=str)"
   ]
  },
  {
   "cell_type": "code",
   "execution_count": 14,
   "metadata": {
    "scrolled": true
   },
   "outputs": [],
   "source": [
    "from sklearn.metrics import accuracy_score\n",
    "score_bayes = accuracy_score(pred_y, test_y)"
   ]
  },
  {
   "cell_type": "markdown",
   "metadata": {},
   "source": [
    "### Naive Bayes"
   ]
  },
  {
   "cell_type": "markdown",
   "metadata": {},
   "source": [
    "Vamos considerar a biblioteca scikit-learn."
   ]
  },
  {
   "cell_type": "code",
   "execution_count": 15,
   "metadata": {},
   "outputs": [
    {
     "data": {
      "text/plain": [
       "GaussianNB(priors=None, var_smoothing=1e-09)"
      ]
     },
     "execution_count": 15,
     "metadata": {},
     "output_type": "execute_result"
    }
   ],
   "source": [
    "from sklearn.naive_bayes import GaussianNB\n",
    "gnb = GaussianNB()\n",
    "gnb.fit(train_x, train_y)"
   ]
  },
  {
   "cell_type": "code",
   "execution_count": 16,
   "metadata": {},
   "outputs": [],
   "source": [
    "pred_y = gnb.predict(test_x)\n",
    "score_GNB = accuracy_score(pred_y, test_y)"
   ]
  },
  {
   "cell_type": "markdown",
   "metadata": {},
   "source": [
    "A matriz de confusão:"
   ]
  },
  {
   "cell_type": "code",
   "execution_count": 17,
   "metadata": {
    "scrolled": true
   },
   "outputs": [
    {
     "name": "stdout",
     "output_type": "stream",
     "text": [
      "[[104  42  28 120  14]\n",
      " [ 32 110  40 160  14]\n",
      " [  7   5 189 167  12]\n",
      " [  5  15  37 276   8]\n",
      " [ 26  17   5  28 307]]\n"
     ]
    }
   ],
   "source": [
    "from sklearn.metrics import confusion_matrix\n",
    "print(confusion_matrix(test_y, pred_y))"
   ]
  },
  {
   "cell_type": "markdown",
   "metadata": {},
   "source": [
    "### Acurácias"
   ]
  },
  {
   "cell_type": "code",
   "execution_count": 18,
   "metadata": {},
   "outputs": [
    {
     "name": "stdout",
     "output_type": "stream",
     "text": [
      "Acurácias:\n",
      "\n",
      "\tKNN para k = 1: \t\t0.6476\n",
      "\tDecisão Bayesiana: \t\t0.6029\n",
      "\tNaive Bayes: \t\t\t0.5577\n"
     ]
    }
   ],
   "source": [
    "print(\"Acurácias:\\n\")\n",
    "print(\"\\tKNN para k = 1: \\t\\t%.4f\" % vscore[0])\n",
    "print(\"\\tDecisão Bayesiana: \\t\\t%.4f\" % score_bayes)\n",
    "print(\"\\tNaive Bayes: \\t\\t\\t%.4f\"% score_GNB)"
   ]
  },
  {
   "cell_type": "markdown",
   "metadata": {},
   "source": [
    "É possível concluir que o algoritmo KNN, para k = 1 vizinhos, teve maior acurácia entre os algoritmos analisados."
   ]
  },
  {
   "cell_type": "markdown",
   "metadata": {},
   "source": [
    "## 5 – Verifique\to\tefeito\tda\tnormalização\t(atributos\tem\t[0,1])\te\tpadronização (atributos\tcom\tmédia\t0\te\tvariância\t1)\tdos\tdados.\tCompare\tos\tcasos\tsem\tprocessamento,\tcom\tpadronização\te\tcom\tnormalização\tpara\tos\tclassificadores:\n",
    "- ### knn\t(melhor\tk\tobservado\tno\titem\tanterior)\n",
    "- ### Decisão\tBayesiana\n",
    "- ### Naive\tBayes"
   ]
  },
  {
   "cell_type": "code",
   "execution_count": 19,
   "metadata": {},
   "outputs": [],
   "source": [
    "#Bibliotecas para normalização e padronização\n",
    "from sklearn.preprocessing import StandardScaler\n",
    "from sklearn.preprocessing import MinMaxScaler"
   ]
  },
  {
   "cell_type": "markdown",
   "metadata": {},
   "source": [
    "### k-vizinhos"
   ]
  },
  {
   "cell_type": "code",
   "execution_count": 20,
   "metadata": {},
   "outputs": [
    {
     "name": "stdout",
     "output_type": "stream",
     "text": [
      "Acurácia sem processamento:\t 0.6476244343891403\n",
      "Acurácia com padronização:\t 0.8433257918552036\n",
      "Acurácia com normalização:\t 0.8076923076923077\n"
     ]
    }
   ],
   "source": [
    "#tipo:\n",
    "# 0 sem processamento\n",
    "# 1 com padronização\n",
    "# 2 com normalização\n",
    "def acuraciaKnnValor(features, tipo=0, p=0.7, metric='euclidean', k=1, dist=2):    \n",
    "    X = np.array(features, dtype=float)\n",
    "    #se quisermos a acurácia com padronização \n",
    "    if tipo == 1:\n",
    "        scaler = StandardScaler().fit(X)\n",
    "        X = scaler.transform(X)\n",
    "        \n",
    "    if tipo == 2:\n",
    "        scaler = MinMaxScaler(feature_range=(0,1))\n",
    "        scaler.fit(X)\n",
    "        X = scaler.transform(X)\n",
    "        \n",
    "    train_x, test_x, train_y, test_y = train_test_split(X, Y, test_size=1-p, random_state=42)\n",
    "    \n",
    "    model = KNeighborsClassifier(n_neighbors=k, p=dist, metric=metric)\n",
    "    # Train the model using the training sets\n",
    "    model.fit(train_x,train_y)\n",
    "    #Predict Output\n",
    "    pred_y = model.predict(test_x) \n",
    "    score = accuracy_score(pred_y, test_y)\n",
    "    return score\n",
    "\n",
    "print('Acurácia sem processamento:\\t', acuraciaKnnValor(features, tipo=0))\n",
    "print('Acurácia com padronização:\\t', acuraciaKnnValor(features, tipo=1))\n",
    "print('Acurácia com normalização:\\t', acuraciaKnnValor(features, tipo=2))"
   ]
  },
  {
   "cell_type": "markdown",
   "metadata": {},
   "source": [
    "### Classificador Bayesiano"
   ]
  },
  {
   "cell_type": "code",
   "execution_count": 21,
   "metadata": {},
   "outputs": [
    {
     "name": "stdout",
     "output_type": "stream",
     "text": [
      "Acurácia sem processamento:\t 0.6029411764705882\n",
      "Acurácia com padronização:\t 0.6029411764705882\n",
      "Acurácia com normalização:\t 0.6029411764705882\n"
     ]
    }
   ],
   "source": [
    "#tipo:\n",
    "# 0 sem processamento\n",
    "# 1 com padronização\n",
    "# 2 com normalização\n",
    "def acuraciaBayesValor(features, tipo=0, p=0.7):\n",
    "    \n",
    "    X = np.array(features, dtype=float)\n",
    "    if tipo == 1:\n",
    "        scaler = StandardScaler().fit(X)\n",
    "        X = scaler.transform(X)\n",
    "    \n",
    "    if tipo == 2:\n",
    "        scaler = MinMaxScaler(feature_range=(0,1))\n",
    "        scaler.fit(X)\n",
    "        X = scaler.transform(X)\n",
    "    \n",
    "    train_x, test_x, train_y, test_y = train_test_split(X, Y, test_size=1-p, random_state=42)\n",
    "    P = pd.DataFrame(data=np.zeros((test_x.shape[0], len(classes))), columns = classes)\n",
    "    for i in np.arange(0, len(classes)):\n",
    "        elements = tuple(np.where(train_y == classes[i]))\n",
    "        Z = train_x[elements,:][0]\n",
    "        m = np.mean(Z, axis = 0)\n",
    "        cv = np.cov(np.transpose(Z))\n",
    "        for j in np.arange(0,test_x.shape[0]):\n",
    "            x = test_x[j,:]\n",
    "            pj = multivariate_normal.pdf(x, mean=m, cov=cv)\n",
    "            P[classes[i]][j] = pj\n",
    "    \n",
    "    pred_y = []\n",
    "    for i in np.arange(0, test_x.shape[0]):\n",
    "        c = np.argmax(np.array(P.iloc[[i]]))\n",
    "        pred_y.append(classes[c])\n",
    "    pred_y = np.array(pred_y, dtype=str)\n",
    "    \n",
    "    score = accuracy_score(pred_y, test_y)\n",
    "    return score\n",
    "\n",
    "print('Acurácia sem processamento:\\t', acuraciaBayesValor(features, tipo=0))\n",
    "print('Acurácia com padronização:\\t', acuraciaBayesValor(features, tipo=1))\n",
    "print('Acurácia com normalização:\\t', acuraciaBayesValor(features, tipo=2))\n"
   ]
  },
  {
   "cell_type": "markdown",
   "metadata": {},
   "source": [
    "### Naive Bayes"
   ]
  },
  {
   "cell_type": "code",
   "execution_count": 22,
   "metadata": {},
   "outputs": [
    {
     "name": "stdout",
     "output_type": "stream",
     "text": [
      "Acurácia sem processamento:\t 0.5576923076923077\n",
      "Acurácia com padronização:\t 0.5576923076923077\n",
      "Acurácia com normalização:\t 0.5576923076923077\n"
     ]
    }
   ],
   "source": [
    "#tipo:\n",
    "# 0 sem processamento\n",
    "# 1 com padronização\n",
    "# 2 com normalização\n",
    "def acuraciaNaiveBayesValor(features, tipo=0, p=0.7):\n",
    "    \n",
    "    X = np.array(features, dtype=float)\n",
    "    if tipo == 1:\n",
    "        scaler = StandardScaler().fit(X)\n",
    "        X = scaler.transform(X)\n",
    "    \n",
    "    if tipo == 2:\n",
    "        scaler = MinMaxScaler(feature_range=(0,1))\n",
    "        scaler.fit(X)\n",
    "        X = scaler.transform(X)\n",
    "    \n",
    "    train_x, test_x, train_y, test_y = train_test_split(X, Y, test_size=1-p, random_state=42)\n",
    "    gnb = GaussianNB()\n",
    "    gnb.fit(train_x, train_y)\n",
    "    \n",
    "    pred_y = gnb.predict(test_x)\n",
    "    score = accuracy_score(pred_y, test_y)\n",
    "    return score\n",
    "\n",
    "print('Acurácia sem processamento:\\t', acuraciaNaiveBayesValor(features, tipo=0))\n",
    "print('Acurácia com padronização:\\t', acuraciaNaiveBayesValor(features, tipo=1))\n",
    "print('Acurácia com normalização:\\t', acuraciaNaiveBayesValor(features, tipo=2))"
   ]
  },
  {
   "cell_type": "markdown",
   "metadata": {},
   "source": [
    "## 6 – Mostre a matriz de correlação entre os atributos. Considere os atributos com menor correlação (por exemplo, menor do que 0.5). Realize a classificação novamente apenas com esses atributos. A acurácia melhora?"
   ]
  },
  {
   "cell_type": "markdown",
   "metadata": {},
   "source": [
    "A matriz de correlação entre as variáveis:"
   ]
  },
  {
   "cell_type": "code",
   "execution_count": 23,
   "metadata": {},
   "outputs": [
    {
     "data": {
      "text/plain": [
       "<matplotlib.axes._subplots.AxesSubplot at 0x7fa004b907b8>"
      ]
     },
     "execution_count": 23,
     "metadata": {},
     "output_type": "execute_result"
    },
    {
     "data": {
      "image/png": "[encoded data removed]",
      "text/plain": [
       "<Figure size 1080x720 with 2 Axes>"
      ]
     },
     "metadata": {
      "needs_background": "light"
     },
     "output_type": "display_data"
    }
   ],
   "source": [
    "import seaborn as sns\n",
    "\n",
    "corr = features.corr()\n",
    "\n",
    "plt.figure(figsize=(15,10))\n",
    "sns.heatmap(corr, annot=True)\n",
    "#Plot Correlation Matrix using Matplotlib\n",
    "# plt.figure(figsize=(7,7))\n",
    "# plt.imshow(corr, cmap='Blues', interpolation='none', aspect='auto')\n",
    "# plt.colorbar()\n",
    "# plt.xticks(range(len(corr)), corr.columns, rotation='vertical')\n",
    "# plt.yticks(range(len(corr)), corr.columns);\n",
    "# plt.suptitle('Correlation between variables', fontsize=15, fontweight='bold')\n",
    "# plt.grid(False)\n",
    "# plt.show()"
   ]
  },
  {
   "cell_type": "markdown",
   "metadata": {},
   "source": [
    "Assim, para identificarmos as variáveis correlacionadas, usamos um laço for:"
   ]
  },
  {
   "cell_type": "code",
   "execution_count": 24,
   "metadata": {},
   "outputs": [
    {
     "name": "stdout",
     "output_type": "stream",
     "text": [
      "Variáveis com correlação menor que 0.5:\n",
      " [['time', 'android.sensor.accelerometer#mean'], ['time', 'android.sensor.accelerometer#min'], ['time', 'android.sensor.accelerometer#max'], ['time', 'android.sensor.accelerometer#std'], ['time', 'android.sensor.gyroscope#mean'], ['time', 'android.sensor.gyroscope#min'], ['time', 'android.sensor.gyroscope#max'], ['time', 'android.sensor.gyroscope#std'], ['time', 'sound#mean'], ['time', 'sound#min'], ['time', 'sound#max'], ['time', 'sound#std'], ['android.sensor.accelerometer#mean', 'time'], ['android.sensor.accelerometer#mean', 'android.sensor.accelerometer#min'], ['android.sensor.accelerometer#mean', 'android.sensor.gyroscope#min'], ['android.sensor.accelerometer#mean', 'android.sensor.gyroscope#std'], ['android.sensor.accelerometer#mean', 'sound#mean'], ['android.sensor.accelerometer#mean', 'sound#min'], ['android.sensor.accelerometer#mean', 'sound#max'], ['android.sensor.accelerometer#mean', 'sound#std'], ['android.sensor.accelerometer#min', 'time'], ['android.sensor.accelerometer#min', 'android.sensor.accelerometer#mean'], ['android.sensor.accelerometer#min', 'sound#mean'], ['android.sensor.accelerometer#min', 'sound#min'], ['android.sensor.accelerometer#min', 'sound#max'], ['android.sensor.accelerometer#min', 'sound#std'], ['android.sensor.accelerometer#max', 'time'], ['android.sensor.accelerometer#max', 'sound#mean'], ['android.sensor.accelerometer#max', 'sound#min'], ['android.sensor.accelerometer#max', 'sound#max'], ['android.sensor.accelerometer#max', 'sound#std'], ['android.sensor.accelerometer#std', 'time'], ['android.sensor.accelerometer#std', 'sound#mean'], ['android.sensor.accelerometer#std', 'sound#min'], ['android.sensor.accelerometer#std', 'sound#max'], ['android.sensor.accelerometer#std', 'sound#std'], ['android.sensor.gyroscope#mean', 'time'], ['android.sensor.gyroscope#mean', 'sound#mean'], ['android.sensor.gyroscope#mean', 'sound#min'], ['android.sensor.gyroscope#mean', 'sound#max'], ['android.sensor.gyroscope#mean', 'sound#std'], ['android.sensor.gyroscope#min', 'time'], ['android.sensor.gyroscope#min', 'android.sensor.accelerometer#mean'], ['android.sensor.gyroscope#min', 'sound#mean'], ['android.sensor.gyroscope#min', 'sound#min'], ['android.sensor.gyroscope#min', 'sound#max'], ['android.sensor.gyroscope#min', 'sound#std'], ['android.sensor.gyroscope#max', 'time'], ['android.sensor.gyroscope#max', 'sound#mean'], ['android.sensor.gyroscope#max', 'sound#min'], ['android.sensor.gyroscope#max', 'sound#max'], ['android.sensor.gyroscope#max', 'sound#std'], ['android.sensor.gyroscope#std', 'time'], ['android.sensor.gyroscope#std', 'android.sensor.accelerometer#mean'], ['android.sensor.gyroscope#std', 'sound#mean'], ['android.sensor.gyroscope#std', 'sound#min'], ['android.sensor.gyroscope#std', 'sound#max'], ['android.sensor.gyroscope#std', 'sound#std'], ['sound#mean', 'time'], ['sound#mean', 'android.sensor.accelerometer#mean'], ['sound#mean', 'android.sensor.accelerometer#min'], ['sound#mean', 'android.sensor.accelerometer#max'], ['sound#mean', 'android.sensor.accelerometer#std'], ['sound#mean', 'android.sensor.gyroscope#mean'], ['sound#mean', 'android.sensor.gyroscope#min'], ['sound#mean', 'android.sensor.gyroscope#max'], ['sound#mean', 'android.sensor.gyroscope#std'], ['sound#mean', 'sound#std'], ['sound#min', 'time'], ['sound#min', 'android.sensor.accelerometer#mean'], ['sound#min', 'android.sensor.accelerometer#min'], ['sound#min', 'android.sensor.accelerometer#max'], ['sound#min', 'android.sensor.accelerometer#std'], ['sound#min', 'android.sensor.gyroscope#mean'], ['sound#min', 'android.sensor.gyroscope#min'], ['sound#min', 'android.sensor.gyroscope#max'], ['sound#min', 'android.sensor.gyroscope#std'], ['sound#min', 'sound#std'], ['sound#max', 'time'], ['sound#max', 'android.sensor.accelerometer#mean'], ['sound#max', 'android.sensor.accelerometer#min'], ['sound#max', 'android.sensor.accelerometer#max'], ['sound#max', 'android.sensor.accelerometer#std'], ['sound#max', 'android.sensor.gyroscope#mean'], ['sound#max', 'android.sensor.gyroscope#min'], ['sound#max', 'android.sensor.gyroscope#max'], ['sound#max', 'android.sensor.gyroscope#std'], ['sound#max', 'sound#std'], ['sound#std', 'time'], ['sound#std', 'android.sensor.accelerometer#mean'], ['sound#std', 'android.sensor.accelerometer#min'], ['sound#std', 'android.sensor.accelerometer#max'], ['sound#std', 'android.sensor.accelerometer#std'], ['sound#std', 'android.sensor.gyroscope#mean'], ['sound#std', 'android.sensor.gyroscope#min'], ['sound#std', 'android.sensor.gyroscope#max'], ['sound#std', 'android.sensor.gyroscope#std'], ['sound#std', 'sound#mean'], ['sound#std', 'sound#min'], ['sound#std', 'sound#max']]\n"
     ]
    }
   ],
   "source": [
    "p = 0.5\n",
    "var = []\n",
    "for i in corr.columns:\n",
    "    for j in corr.columns:\n",
    "        if(i != j):\n",
    "            if np.abs(corr[i][j]) < p:\n",
    "                var.append([i, j])\n",
    "print('Variáveis com correlação menor que 0.5:\\n', var)"
   ]
  },
  {
   "cell_type": "markdown",
   "metadata": {},
   "source": [
    "## 7\t– Verifique\tqual\tdos\tclassificadores\té\tmais\trobusto\tcom\trelação\tà\tpresença\tde ruídos.\tPara\tisso:\t\n",
    "- ### Aplique\ta\tnormalização\tdos\tdados\tpara\tque\tos\tatributos\tapresentem\tmédia\tigual\ta\tzero\te\tvariância\tigual\ta\t1.\n",
    "- ### Inclua\tem\tX%\tdos\tatributos,\tum\tvalor\tnormalmente\tdistribuído\tcom\tmédia\tzero\te\tvariância\t1.\tConsidere\ttoda\ta\tmatriz\tdos\tdados,\tsorteando uma\tposição\tda\tmatriz\tde\tforma\taleatória.\n",
    "- ### Varie\to\tnível\tde\truído,\tde\t0\ta\t50%\t(em\tpassos\tde\t5%)\te\tavalie\tcomo\tmuda\ta\tclassificação.\tConstrua\tum\tgráfico\tde\tX% de\truído versus\tporcentagem\tde\tclassificação\tcorreta.\tColoque\ta\tmédia\te\to\tdesvio\tpadrão\tcalculados\ta\tpartir\tde\tao\tmenos\t10\tsimulações.\tConsidere\t70%\tdos\tdados\tno\tconjunto\tde\ttreinamento.\n",
    "- ### Discuta os\tresultados."
   ]
  },
  {
   "cell_type": "code",
   "execution_count": 52,
   "metadata": {},
   "outputs": [
    {
     "name": "stdout",
     "output_type": "stream",
     "text": [
      "Lista das médias de cada coluna: [ 0.  0. -0.  0. -0.  0. -0.  0.  0. -0.  0. -0. -0.]\n",
      "Lista das variâncias de cada coluna: [1. 1. 1. 1. 1. 1. 1. 1. 1. 1. 1. 1. 1.]\n"
     ]
    }
   ],
   "source": [
    "#Aplicando padronização\n",
    "scaler = StandardScaler()\n",
    "scaler.fit(X)\n",
    "X_padr = scaler.transform(X)\n",
    "\n",
    "#Verificando média e variância\n",
    "np.set_printoptions(precision=2)\n",
    "print(\"Lista das médias de cada coluna: %s\" % np.around(np.mean(X_padr, axis=0)))\n",
    "print(\"Lista das variâncias de cada coluna: %s\" % np.var(X_padr, axis=0))"
   ]
  },
  {
   "cell_type": "code",
   "execution_count": null,
   "metadata": {},
   "outputs": [],
   "source": []
  },
  {
   "cell_type": "markdown",
   "metadata": {},
   "source": [
    "## 8 – No caso do classificador Naive Bayes, é possível considerar diferentes funções para estimar as probabilidades. Compare os casos: (i) Gaussian Naive Bayes, (ii) multinomial Naive Bayese (iii)Bernoulli Naive Bayes. Considere os casos com e sem padronização."
   ]
  },
  {
   "cell_type": "code",
   "execution_count": null,
   "metadata": {},
   "outputs": [],
   "source": [
    "from sklearn.naive_bayes import MultinomialNB\n",
    "\n",
    "#tipo:\n",
    "# 0 sem processamento\n",
    "# 1 com padronização\n",
    "# 2 com normalização\n",
    "def acuraciaMultinomialNaiveBayesValor(features, tipo=0, p=0.7): \n",
    "    \n",
    "    X = np.array(features, dtype=float)\n",
    "    if tipo == 1:\n",
    "        scaler = StandardScaler().fit(X)\n",
    "        X = scaler.transform(X)\n",
    "    \n",
    "    if tipo == 2:\n",
    "        scaler = MinMaxScaler(feature_range=(0,1))\n",
    "        scaler.fit(X)\n",
    "        X = scaler.transform(X)\n",
    "    \n",
    "    train_x, test_x, train_y, test_y = train_test_split(X, Y, test_size=1-p, random_state=42)\n",
    "    mnb = MultinomialNB()\n",
    "    mnb.fit(train_x, train_y)\n",
    "    pred_y = mnb.predict(test_x)\n",
    "    score_MNB = accuracy_score(pred_y, test_y)\n",
    "    return score"
   ]
  },
  {
   "cell_type": "code",
   "execution_count": null,
   "metadata": {},
   "outputs": [],
   "source": [
    "from sklearn.naive_bayes import BernoulliNB\n",
    "\n",
    "#tipo:\n",
    "# 0 sem processamento\n",
    "# 1 com padronização\n",
    "# 2 com normalização\n",
    "def acuraciaBernoulliNaiveBayesValor(features, tipo=0, p=0.7): \n",
    "    \n",
    "    X = np.array(features, dtype=float)\n",
    "    if tipo == 1:\n",
    "        scaler = StandardScaler().fit(X)\n",
    "        X = scaler.transform(X)\n",
    "    \n",
    "    if tipo == 2:\n",
    "        scaler = MinMaxScaler(feature_range=(0,1))\n",
    "        scaler.fit(X)\n",
    "        X = scaler.transform(X)\n",
    "    \n",
    "    train_x, test_x, train_y, test_y = train_test_split(X, Y, test_size=1-p, random_state=42)\n",
    "    bnb = BernoulliNB()\n",
    "    bnb.fit(train_x, train_y)\n",
    "    pred_y = bnb.predict(test_x)\n",
    "    score_BNB = accuracy_score(pred_y, test_y)\n",
    "    return score"
   ]
  },
  {
   "cell_type": "code",
   "execution_count": null,
   "metadata": {},
   "outputs": [],
   "source": [
    "#tipo:\n",
    "# 0 sem processamento\n",
    "# 1 com padronização\n",
    "# 2 com normalização\n",
    "def acuraciaMultinomialNaiveBayesValor(features, tipo=0, p=0.7):\n",
    "    \n",
    "    X = np.array(features, dtype=float)\n",
    "    if tipo == 1:\n",
    "        scaler = StandardScaler().fit(X)\n",
    "        X = scaler.transform(X)\n",
    "    \n",
    "    if tipo == 2:\n",
    "        scaler = MinMaxScaler(feature_range=(0,1))\n",
    "        scaler.fit(X)\n",
    "        X = scaler.transform(X)\n",
    "    \n",
    "    train_x, test_x, train_y, test_y = train_test_split(X, Y, test_size=1-p, random_state=42)\n",
    "    mnb = MultinomialNB()\n",
    "    mnb.fit(train_x, train_y)\n",
    "    pred_y = mnb.predict(test_x)\n",
    "    score_MNB = accuracy_score(pred_y, test_y)\n",
    "    return score"
   ]
  },
  {
   "cell_type": "code",
   "execution_count": null,
   "metadata": {
    "scrolled": true
   },
   "outputs": [],
   "source": [
    "print(\"Acurácias para o Naive Bayes sem padronização:\\n\")\n",
    "print(\"\\tGaussian Naive Bayes: \\t%.4f\" % acuraciaNaiveBayesValor(features, tipo=0, p=0.7))\n",
    "print(\"\\tMultinomial Naive Bayes: %.4f\" % acuraciaMultinomialNaiveBayesValor(features, tipo=0, p=0.7))\n",
    "print(\"\\tBernoulli Naive Bayes: \\t%.4f\"% acuraciaBernoulliNaiveBayesValor(features, tipo=0, p=0.7))"
   ]
  },
  {
   "cell_type": "code",
   "execution_count": null,
   "metadata": {},
   "outputs": [],
   "source": [
    "print(\"Acurácias para o Naive Bayes com padronização:\\n\")\n",
    "print(\"\\tGaussian Naive Bayes: \\t%.4f\" % acuraciaNaiveBayesValor(features, tipo=1, p=0.7))\n",
    "#MultinomialNB assumes that features have multinomial distribution which is a generalization of the binomial distribution. \n",
    "#Neither binomial nor multinomial distributions can contain negative values.\n",
    "#print(\"\\tMultinomial Naive Bayes: %.4f\" % acuraciaMultinomialNaiveBayesValor(features, tipo=1, p=0.7))\n",
    "print(\"\\tBernoulli Naive Bayes: \\t%.4f\"% acuraciaBernoulliNaiveBayesValor(features, tipo=1, p=0.7))"
   ]
  },
  {
   "cell_type": "markdown",
   "metadata": {},
   "source": [
    "## 9 – No caso do Knn, compare as classificações usando diferentes métricas. Varie k e mostre as curvas (em um mesmo plot) para as distâncias euclidiana, Manhattan, Chebyshev e Minkowski (p=0.5, p=1.5, p = 3)."
   ]
  },
  {
   "cell_type": "code",
   "execution_count": null,
   "metadata": {},
   "outputs": [],
   "source": [
    "plt.figure(figsize=(15,10))\n",
    "plt.grid(True)\n",
    "plt.xlabel(\"k\")\n",
    "plt.ylabel(\"Acurácia\")\n",
    "\n",
    "dists = ['euclidean', 'manhattan', 'chebyshev']\n",
    "for m in dists:\n",
    "    acur = []\n",
    "    k_list = []\n",
    "    for k in range(1, 15):\n",
    "        acur.append(acuraciaKnnValor(features, tipo=0, p=0.7, metric=m, k=k))\n",
    "        k_list.append(k)\n",
    "    plt.plot(k_list, acur, label=m, linewidth=2.5)\n",
    "\n",
    "p_list = [1.5, 3]\n",
    "for p_valor in p_list:\n",
    "    acur = []\n",
    "    k_list = []\n",
    "    for k in range(1, 15):\n",
    "        acur.append(acuraciaKnnValor(features, tipo=0, p=0.7, metric='minkowski', k=k, dist=p_valor))\n",
    "        k_list.append(k)\n",
    "    plt.plot(k_list, acur, label='minkowski_'+str(p_valor), linewidth=2.5)    \n",
    "    \n",
    "\n",
    "plt.legend(bbox_to_anchor=(1.05, 1), loc=2, borderaxespad=0.)\n",
    "plt.show()"
   ]
  },
  {
   "cell_type": "markdown",
   "metadata": {},
   "source": [
    "## 10\t– Faça\tum\tgráfico\tda\tfração\tde\telementos\tno\tconjunto\tde\ttreinamento\t(10%\taté\t90%\tem\tpassos\tde\t10%)\tversus\tacurácia\tpara\tos\tclassificadores:\n",
    "- ### knn\t(melhor\tk\tobservado\tanteriormente)\n",
    "- ### Naive\tBayes\n",
    "- ### Decisão\tBayesiana\n",
    "## Considere os\tcasos com e sem padronização."
   ]
  },
  {
   "cell_type": "markdown",
   "metadata": {},
   "source": [
    "### k-vizinhos"
   ]
  },
  {
   "cell_type": "code",
   "execution_count": null,
   "metadata": {},
   "outputs": [],
   "source": [
    "acuracia_sem = []\n",
    "acuracia_com = []\n",
    "list_p = []\n",
    "for i in range(1, 10):\n",
    "    list_p.append(i/10)\n",
    "    acuracia_sem.append(acuraciaKnnValor(features, tipo=0, p=i/10, k=1))\n",
    "    acuracia_com.append(acuraciaKnnValor(features, tipo=1, p=i/10, k=1))\n",
    "\n",
    "print(\"Gráfico da acurácia em função da fração de elementos no conjunto de treinamento:\")\n",
    "plt.figure(figsize=(15,10))\n",
    "plt.xlabel(\"Fração de elementos no conjunto de treinamento\")\n",
    "plt.ylabel(\"Acurácia\")\n",
    "plt.plot(list_p, acuracia_sem, label = 'sem padronização', linewidth=2.5)\n",
    "plt.plot(list_p, acuracia_com, label = 'com padronização', linewidth=2.5)\n",
    "plt.legend(bbox_to_anchor=(1.05, 1), loc=2, borderaxespad=0.)\n",
    "plt.grid(True)\n"
   ]
  },
  {
   "cell_type": "markdown",
   "metadata": {},
   "source": [
    "### Classificador bayesiano"
   ]
  },
  {
   "cell_type": "code",
   "execution_count": null,
   "metadata": {},
   "outputs": [],
   "source": [
    "acuracia_sem = []\n",
    "acuracia_com = []\n",
    "list_p = []\n",
    "#não funciona com 10% pois a matriz se torna singular e ocorre um erro com o método pdf\n",
    "for i in range(2, 10):    \n",
    "    list_p.append(i/10)\n",
    "    acuracia_sem.append(acuraciaBayesValor(features=features, tipo=0, p=i/10))\n",
    "    acuracia_com.append(acuraciaBayesValor(features=features, tipo=1, p=i/10))\n",
    "    \n",
    "print(\"Gráfico da acurácia em função da fração de elementos no conjunto de treinamento:\")\n",
    "plt.figure(figsize=(15,10))\n",
    "plt.xlabel(\"Fração de elementos no conjunto de treinamento\")\n",
    "plt.ylabel(\"Acurácia\")\n",
    "plt.plot(list_p, acuracia_sem, label = 'sem padronização', linewidth=2.5)\n",
    "plt.plot(list_p, acuracia_com, label = 'com padronização', linewidth=2.5)\n",
    "plt.legend(bbox_to_anchor=(1.05, 1), loc=2, borderaxespad=0.)\n",
    "plt.grid(True)"
   ]
  },
  {
   "cell_type": "markdown",
   "metadata": {},
   "source": [
    "### Naive Bayes"
   ]
  },
  {
   "cell_type": "code",
   "execution_count": null,
   "metadata": {},
   "outputs": [],
   "source": [
    "acuracia_sem = []\n",
    "acuracia_com = []\n",
    "list_p = []\n",
    "for i in range(1, 10):\n",
    "    list_p.append(i/10)\n",
    "    acuracia_sem.append(acuraciaNaiveBayesValor(features=features, tipo=0, p=i/10))\n",
    "    acuracia_com.append(acuraciaNaiveBayesValor(features=features, tipo=1, p=i/10))\n",
    "    \n",
    "print(\"Gráfico da acurácia em função da fração de elementos no conjunto de treinamento:\")\n",
    "plt.figure(figsize=(15,10))\n",
    "plt.xlabel(\"Fração de elementos no conjunto de treinamento\")\n",
    "plt.ylabel(\"Acurácia\")\n",
    "plt.plot(list_p, acuracia_sem, label = 'sem padronização', linewidth=2.5)\n",
    "plt.plot(list_p, acuracia_com, label = 'com padronização', linewidth=2.5)\n",
    "plt.legend(bbox_to_anchor=(1.05, 1), loc=2, borderaxespad=0.)\n",
    "plt.grid(True)"
   ]
  }
 ],
 "metadata": {
  "kernelspec": {
   "display_name": "Python 3",
   "language": "python",
   "name": "python3"
  },
  "language_info": {
   "codemirror_mode": {
    "name": "ipython",
    "version": 3
   },
   "file_extension": ".py",
   "mimetype": "text/x-python",
   "name": "python",
   "nbconvert_exporter": "python",
   "pygments_lexer": "ipython3",
   "version": "3.7.1"
  }
 },
 "nbformat": 4,
 "nbformat_minor": 2
}
