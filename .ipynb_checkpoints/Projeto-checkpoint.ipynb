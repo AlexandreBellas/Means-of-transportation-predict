{
 "cells": [
  {
   "cell_type": "markdown",
   "metadata": {},
   "source": [
    "## 1\t– Considere\ta\tbase\tde\tdados\t(arquivo\tdataset_5secondWindow%5B1%5D.csv):\n",
    "\n",
    "### https://www.kaggle.com/fschwartzer/tmd-dataset-5-seconds-sliding-window"
   ]
  },
  {
   "cell_type": "markdown",
   "metadata": {},
   "source": [
    "## 2\t– Realize\to\tpré-processamento\tdos\tdados:\tVerifque\tse\thá\tNaN\tou\toutros\terros no\tdados.\tSelecione apenas\tos\tatributos\trelevantes\te\tnuméricos."
   ]
  },
  {
   "cell_type": "code",
   "execution_count": 1,
   "metadata": {},
   "outputs": [],
   "source": [
    "#Importar biblioteca numpy, pandas e matplotlib\n",
    "import pandas as pd\n",
    "import numpy as np\n",
    "import matplotlib.pyplot as plt"
   ]
  },
  {
   "cell_type": "code",
   "execution_count": 2,
   "metadata": {},
   "outputs": [
    {
     "data": {
      "text/html": [
       "<div>\n",
       "<style scoped>\n",
       "    .dataframe tbody tr th:only-of-type {\n",
       "        vertical-align: middle;\n",
       "    }\n",
       "\n",
       "    .dataframe tbody tr th {\n",
       "        vertical-align: top;\n",
       "    }\n",
       "\n",
       "    .dataframe thead th {\n",
       "        text-align: right;\n",
       "    }\n",
       "</style>\n",
       "<table border=\"1\" class=\"dataframe\">\n",
       "  <thead>\n",
       "    <tr style=\"text-align: right;\">\n",
       "      <th></th>\n",
       "      <th>time</th>\n",
       "      <th>android.sensor.accelerometer#mean</th>\n",
       "      <th>android.sensor.accelerometer#min</th>\n",
       "      <th>android.sensor.accelerometer#max</th>\n",
       "      <th>android.sensor.accelerometer#std</th>\n",
       "      <th>android.sensor.gyroscope#mean</th>\n",
       "      <th>android.sensor.gyroscope#min</th>\n",
       "      <th>android.sensor.gyroscope#max</th>\n",
       "      <th>android.sensor.gyroscope#std</th>\n",
       "      <th>sound#mean</th>\n",
       "      <th>sound#min</th>\n",
       "      <th>sound#max</th>\n",
       "      <th>sound#std</th>\n",
       "    </tr>\n",
       "  </thead>\n",
       "  <tbody>\n",
       "    <tr>\n",
       "      <th>0</th>\n",
       "      <td>78.0</td>\n",
       "      <td>9.811476</td>\n",
       "      <td>9.758895</td>\n",
       "      <td>9.849411</td>\n",
       "      <td>0.014626</td>\n",
       "      <td>0.001651</td>\n",
       "      <td>0.000000</td>\n",
       "      <td>0.003533</td>\n",
       "      <td>0.000737</td>\n",
       "      <td>0.000000</td>\n",
       "      <td>0.000000</td>\n",
       "      <td>0.000000</td>\n",
       "      <td>0.000000</td>\n",
       "    </tr>\n",
       "    <tr>\n",
       "      <th>1</th>\n",
       "      <td>145.0</td>\n",
       "      <td>9.939207</td>\n",
       "      <td>7.707437</td>\n",
       "      <td>17.146631</td>\n",
       "      <td>1.775944</td>\n",
       "      <td>0.036326</td>\n",
       "      <td>0.011669</td>\n",
       "      <td>0.059388</td>\n",
       "      <td>0.020290</td>\n",
       "      <td>89.200210</td>\n",
       "      <td>89.065143</td>\n",
       "      <td>89.335277</td>\n",
       "      <td>0.191013</td>\n",
       "    </tr>\n",
       "    <tr>\n",
       "      <th>2</th>\n",
       "      <td>150.0</td>\n",
       "      <td>9.827178</td>\n",
       "      <td>9.804817</td>\n",
       "      <td>9.849262</td>\n",
       "      <td>0.011199</td>\n",
       "      <td>0.001525</td>\n",
       "      <td>0.000000</td>\n",
       "      <td>0.002609</td>\n",
       "      <td>0.000713</td>\n",
       "      <td>0.000000</td>\n",
       "      <td>0.000000</td>\n",
       "      <td>0.000000</td>\n",
       "      <td>0.000000</td>\n",
       "    </tr>\n",
       "    <tr>\n",
       "      <th>3</th>\n",
       "      <td>105.0</td>\n",
       "      <td>9.673039</td>\n",
       "      <td>7.659674</td>\n",
       "      <td>12.304298</td>\n",
       "      <td>0.862553</td>\n",
       "      <td>0.036440</td>\n",
       "      <td>0.020463</td>\n",
       "      <td>0.052512</td>\n",
       "      <td>0.010553</td>\n",
       "      <td>87.470377</td>\n",
       "      <td>87.470377</td>\n",
       "      <td>87.470377</td>\n",
       "      <td>2.284186</td>\n",
       "    </tr>\n",
       "    <tr>\n",
       "      <th>4</th>\n",
       "      <td>77.0</td>\n",
       "      <td>9.993466</td>\n",
       "      <td>8.965621</td>\n",
       "      <td>10.891645</td>\n",
       "      <td>0.504117</td>\n",
       "      <td>0.183202</td>\n",
       "      <td>0.020667</td>\n",
       "      <td>0.380875</td>\n",
       "      <td>0.098819</td>\n",
       "      <td>89.770732</td>\n",
       "      <td>89.770732</td>\n",
       "      <td>89.770732</td>\n",
       "      <td>0.006389</td>\n",
       "    </tr>\n",
       "  </tbody>\n",
       "</table>\n",
       "</div>"
      ],
      "text/plain": [
       "    time  android.sensor.accelerometer#mean  android.sensor.accelerometer#min  \\\n",
       "0   78.0                           9.811476                          9.758895   \n",
       "1  145.0                           9.939207                          7.707437   \n",
       "2  150.0                           9.827178                          9.804817   \n",
       "3  105.0                           9.673039                          7.659674   \n",
       "4   77.0                           9.993466                          8.965621   \n",
       "\n",
       "   android.sensor.accelerometer#max  android.sensor.accelerometer#std  \\\n",
       "0                          9.849411                          0.014626   \n",
       "1                         17.146631                          1.775944   \n",
       "2                          9.849262                          0.011199   \n",
       "3                         12.304298                          0.862553   \n",
       "4                         10.891645                          0.504117   \n",
       "\n",
       "   android.sensor.gyroscope#mean  android.sensor.gyroscope#min  \\\n",
       "0                       0.001651                      0.000000   \n",
       "1                       0.036326                      0.011669   \n",
       "2                       0.001525                      0.000000   \n",
       "3                       0.036440                      0.020463   \n",
       "4                       0.183202                      0.020667   \n",
       "\n",
       "   android.sensor.gyroscope#max  android.sensor.gyroscope#std  sound#mean  \\\n",
       "0                      0.003533                      0.000737    0.000000   \n",
       "1                      0.059388                      0.020290   89.200210   \n",
       "2                      0.002609                      0.000713    0.000000   \n",
       "3                      0.052512                      0.010553   87.470377   \n",
       "4                      0.380875                      0.098819   89.770732   \n",
       "\n",
       "   sound#min  sound#max  sound#std  \n",
       "0   0.000000   0.000000   0.000000  \n",
       "1  89.065143  89.335277   0.191013  \n",
       "2   0.000000   0.000000   0.000000  \n",
       "3  87.470377  87.470377   2.284186  \n",
       "4  89.770732  89.770732   0.006389  "
      ]
     },
     "execution_count": 2,
     "metadata": {},
     "output_type": "execute_result"
    }
   ],
   "source": [
    "#Carregar arquivo .csv\n",
    "df = pd.read_csv(\"data/dataset_5secondWindow%5B1%5D.csv\")\n",
    "\n",
    "#Remover valores NaN\n",
    "df = df.dropna(axis='rows')\n",
    "\n",
    "#Obter classes únicas do conjunto de dados\n",
    "classes = pd.unique(df[df.columns[-1]])\n",
    "classes = np.array(classes, dtype=str)\n",
    "\n",
    "#Lista dos labels\n",
    "list_labels = list(df.columns)\n",
    "\n",
    "#Obter coluna de classes de cada linha\n",
    "Y = np.array(df[list_labels[-1]], dtype=str)\n",
    "\n",
    "#Remove a coluna de classes do conjunto de dados inicial\n",
    "df = df.drop(list_labels[-1], axis=1)\n",
    "\n",
    "#Converter em array numpy\n",
    "X = np.array(df)\n",
    "\n",
    "df.head(5)"
   ]
  },
  {
   "cell_type": "markdown",
   "metadata": {},
   "source": [
    "## 3\t- No\tcaso\tdo\tclassificador\tKnn,\tverifique\to\tefeito\tdo\tparâmetro\tk\tna\tclassificação."
   ]
  },
  {
   "cell_type": "code",
   "execution_count": 3,
   "metadata": {},
   "outputs": [],
   "source": [
    "#Importando biblioteca de separação do conjunto de teste e treino\n",
    "from sklearn.model_selection import train_test_split\n",
    "#Bilioteca do classificador KNN\n",
    "from sklearn.neighbors import KNeighborsClassifier\n",
    "#Biblioteca do cálculo de acurácia\n",
    "from sklearn.metrics import accuracy_score"
   ]
  },
  {
   "cell_type": "code",
   "execution_count": 4,
   "metadata": {},
   "outputs": [],
   "source": [
    "#Função para classificação KNN em função de k, retornando a acurácia\n",
    "def classificarKNN(conjunto_split, k, metric='euclidean', mode='normal'):\n",
    "    #Obter dados separados\n",
    "    train_x = conjunto_split[0]\n",
    "    test_x = conjunto_split[1]\n",
    "    train_y = conjunto_split[2]\n",
    "    test_y = conjunto_split[3]\n",
    "    \n",
    "    #Obter modelo KNN\n",
    "    model = KNeighborsClassifier(n_neighbors=k, metric=metric)\n",
    "    #Fazer fit entre conjuntos de treino\n",
    "    model.fit(train_x, train_y)\n",
    "    \n",
    "    #Saída predita\n",
    "    pred_y = model.predict(test_x)\n",
    "    \n",
    "    #Cálculo da acurácia\n",
    "    score = accuracy_score(pred_y, test_y)\n",
    "    return score"
   ]
  },
  {
   "cell_type": "code",
   "execution_count": 6,
   "metadata": {},
   "outputs": [
    {
     "data": {
      "image/png": "[encoded data removed]",
      "text/plain": [
       "<Figure size 1080x720 with 1 Axes>"
      ]
     },
     "metadata": {
      "needs_background": "light"
     },
     "output_type": "display_data"
    }
   ],
   "source": [
    "#Separando conjunto de teste e conjunto de treino\n",
    "p=0.7\n",
    "train_x, test_x, train_y, test_y = train_test_split(\n",
    "    X, Y, test_size = 1-p, random_state = 42\n",
    ")\n",
    "\n",
    "#Facilitando o parâmetro para a função\n",
    "conjunto_split = []\n",
    "conjunto_split.append(train_x)\n",
    "conjunto_split.append(test_x)\n",
    "conjunto_split.append(train_y)\n",
    "conjunto_split.append(test_y)\n",
    "\n",
    "#Calculando a acurácia variando o k\n",
    "acur = []\n",
    "k_list = []\n",
    "for k in np.arange(1, 20):\n",
    "    acur.append(classificarKNN(conjunto_split=conjunto_split, k=k))\n",
    "    k_list.append(k)\n",
    "\n",
    "plt.figure(figsize=(15,10))\n",
    "plt.plot(k_list, acur, linewidth=2.5)\n",
    "plt.grid(True)\n",
    "plt.show(True)"
   ]
  },
  {
   "cell_type": "markdown",
   "metadata": {},
   "source": [
    "## 4 – Compare\tos\tclassificadores:\n",
    "- ### knn (melhor\tk\tobservado\tno\titem\tanterior)\n",
    "- ### Naive\tBayes\n",
    "- ### Decisão\tBayesiana"
   ]
  },
  {
   "cell_type": "markdown",
   "metadata": {},
   "source": [
    "#### Classificador Bayesiano"
   ]
  },
  {
   "cell_type": "code",
   "execution_count": 7,
   "metadata": {},
   "outputs": [],
   "source": [
    "#Biblioteca necessária para o classificador bayesiano\n",
    "from scipy.stats import multivariate_normal"
   ]
  },
  {
   "cell_type": "code",
   "execution_count": 8,
   "metadata": {},
   "outputs": [],
   "source": [
    "#Bibliotecas necessárias para o Naive Bayes\n",
    "from sklearn.naive_bayes import GaussianNB"
   ]
  },
  {
   "cell_type": "code",
   "execution_count": 9,
   "metadata": {},
   "outputs": [],
   "source": [
    "#Função para calcular a acurácia baseando-se no classificador bayesiano\n",
    "def classificarBayes(conjunto_split):    \n",
    "    #Obter dados separados\n",
    "    train_x = conjunto_split[0]\n",
    "    test_x = conjunto_split[1]\n",
    "    train_y = conjunto_split[2]\n",
    "    test_y = conjunto_split[3]\n",
    "    \n",
    "    #Obter modelo do classificador bayesiano    \n",
    "    P = pd.DataFrame(data=np.zeros((test_x.shape[0], len(classes))), columns = classes)\n",
    "    for i in np.arange(0, len(classes)):\n",
    "        elements = tuple(np.where(train_y == classes[i]))\n",
    "        Z = train_x[elements,:][0]\n",
    "        m = np.mean(Z, axis = 0)\n",
    "        cv = np.cov(np.transpose(Z))\n",
    "        for j in np.arange(0,test_x.shape[0]):\n",
    "            x = test_x[j,:]\n",
    "            pj = multivariate_normal.pdf(x, mean=m, cov=cv)\n",
    "            P[classes[i]][j] = pj\n",
    "    \n",
    "    #Saída predita\n",
    "    pred_y = []\n",
    "    for i in np.arange(0, test_x.shape[0]):\n",
    "        c = np.argmax(np.array(P.iloc[[i]]))\n",
    "        pred_y.append(classes[c])\n",
    "    pred_y = np.array(pred_y, dtype=str)\n",
    "    \n",
    "    #Calcular a acurácia\n",
    "    score = accuracy_score(pred_y, test_y)    \n",
    "    return score"
   ]
  },
  {
   "cell_type": "code",
   "execution_count": 10,
   "metadata": {},
   "outputs": [],
   "source": [
    "#Função para calcular a acurácia usando Naive Bayes\n",
    "def classificarNaiveBayes(conjunto_split):\n",
    "    #Obter dados separados\n",
    "    train_x = conjunto_split[0]\n",
    "    test_x = conjunto_split[1]\n",
    "    train_y = conjunto_split[2]\n",
    "    test_y = conjunto_split[3]\n",
    "    \n",
    "    #Obter modelo do classificador Naive Bayes\n",
    "    gnb = GaussianNB()\n",
    "    gnb.fit(train_x, train_y)\n",
    "    \n",
    "    #Obter saída predita\n",
    "    pred_y = gnb.predict(test_x)\n",
    "    \n",
    "    #Cálculo da acurácia\n",
    "    score = accuracy_score(pred_y, test_y)\n",
    "    return score"
   ]
  },
  {
   "cell_type": "code",
   "execution_count": 11,
   "metadata": {},
   "outputs": [
    {
     "name": "stdout",
     "output_type": "stream",
     "text": [
      "Acurácias:\n",
      "\n",
      "\tKNN para k = 1: \t\t0.6476\n",
      "\tNaive Bayes: \t\t\t0.6029\n",
      "\tCalssificador Bayesiano: \t0.5577\n"
     ]
    }
   ],
   "source": [
    "print(\"Acurácias:\\n\")\n",
    "k = 1\n",
    "print(\"\\tKNN para k = %d: \\t\\t%.4f\" % (k, classificarKNN(conjunto_split, k)))\n",
    "print(\"\\tNaive Bayes: \\t\\t\\t%.4f\" % classificarBayes(conjunto_split))\n",
    "print(\"\\tCalssificador Bayesiano: \\t%.4f\" % classificarNaiveBayes(conjunto_split))"
   ]
  },
  {
   "cell_type": "markdown",
   "metadata": {},
   "source": [
    "## 5 – Verifique\to\tefeito\tda\tnormalização\t(atributos\tem\t[0,1])\te\tpadronização (atributos\tcom\tmédia\t0\te\tvariância\t1)\tdos\tdados.\tCompare\tos\tcasos\tsem\tprocessamento,\tcom\tpadronização\te\tcom\tnormalização\tpara\tos\tclassificadores:\n",
    "- ### knn\t(melhor\tk\tobservado\tno\titem\tanterior)\n",
    "- ### Naive\tBayes\n",
    "- ### Decisão\tBayesiana"
   ]
  },
  {
   "cell_type": "code",
   "execution_count": 12,
   "metadata": {},
   "outputs": [],
   "source": [
    "#Bibliotecas para normalização e padronização\n",
    "from sklearn.preprocessing import StandardScaler\n",
    "from sklearn.preprocessing import MinMaxScaler"
   ]
  },
  {
   "cell_type": "code",
   "execution_count": 14,
   "metadata": {},
   "outputs": [
    {
     "name": "stdout",
     "output_type": "stream",
     "text": [
      "[[-0.31417556 -0.29959159  0.74747123 ... -2.03006475 -2.04090847\n",
      "  -0.45927073]\n",
      " [ 0.21562191 -0.10484889 -0.40318723 ...  0.74226276  0.73537464\n",
      "  -0.39274352]\n",
      " [ 0.25515904 -0.27565242  0.77322859 ... -2.03006475 -2.04090847\n",
      "  -0.45927073]\n",
      " ...\n",
      " [-0.25091616 -0.29743192  0.75531548 ... -2.03006475 -2.04090847\n",
      "  -0.45927073]\n",
      " [ 0.64262286 -0.26960578  0.77464744 ... -2.03006475 -2.04090847\n",
      "  -0.45927073]\n",
      " [-0.49604633  1.59024709 -1.80776114 ...  0.76241118  0.74709582\n",
      "  -0.45704176]]\n",
      "[[1.10456554e-01 2.42825557e-01 7.99953468e-01 ... 0.00000000e+00\n",
      "  0.00000000e+00 0.00000000e+00]\n",
      " [2.09131075e-01 2.55524526e-01 6.25774086e-01 ... 9.86229568e-01\n",
      "  9.89220792e-01 7.11792339e-03]\n",
      " [2.16494845e-01 2.44386605e-01 8.03852454e-01 ... 0.00000000e+00\n",
      "  0.00000000e+00 0.00000000e+00]\n",
      " ...\n",
      " [1.22238586e-01 2.42966387e-01 8.01140881e-01 ... 0.00000000e+00\n",
      "  0.00000000e+00 0.00000000e+00]\n",
      " [2.88659794e-01 2.44780900e-01 8.04067230e-01 ... 0.00000000e+00\n",
      "  0.00000000e+00 0.00000000e+00]\n",
      " [7.65832106e-02 3.66059968e-01 4.13158595e-01 ... 9.93397180e-01\n",
      "  9.93397180e-01 2.38483908e-04]]\n"
     ]
    }
   ],
   "source": [
    "#Padronizando conjunto de dados\n",
    "padr_scaler = StandardScaler()\n",
    "padr_scaler.fit(X)\n",
    "X_padr = padr_scaler.transform(X)\n",
    "\n",
    "#Normalizando conjunto de dados\n",
    "norm_scaler = MinMaxScaler(feature_range=(0,1))\n",
    "norm_scaler.fit(X)\n",
    "X_norm = norm_scaler.transform(X)\n",
    "\n",
    "#Terminar\n",
    "\n",
    "print(X_padr)\n",
    "print(X_norm)"
   ]
  },
  {
   "cell_type": "markdown",
   "metadata": {},
   "source": [
    "## 6\t– Mostre\ta\tmatriz\tde\tcorrelação\tentre\tos\tatributos.\tConsidere\tos\tatributos\tcom\tmenor\tcorrelação\t(por\texemplo,\tmenor\tdo\tque\t0.5).\tRealize\ta\tclassificação\tnovamente\tapenas\tcom\tesses\tatributos.\tA\tacurácia\tmelhora?"
   ]
  },
  {
   "cell_type": "code",
   "execution_count": null,
   "metadata": {},
   "outputs": [],
   "source": []
  },
  {
   "cell_type": "markdown",
   "metadata": {},
   "source": [
    "## 7\t– Verifique\tqual\tdos\tclassificadores\té\tmais\trobusto\tcom\trelação\tà\tpresença\tde ruídos.\tPara\tisso:\t\n",
    "- ### Aplique\ta\tnormalização\tdos\tdados\tpara\tque\tos\tatributos\tapresentem\tmédia\tigual\ta\tzero\te\tvariância\tigual\ta\t1.\n",
    "- ### Inclua\tem\tX%\tdos\tatributos,\tum\tvalor\tnormalmente\tdistribuído\tcom\tmédia\tzero\te\tvariância\t1.\tConsidere\ttoda\ta\tmatriz\tdos\tdados,\tsorteando uma\tposição\tda\tmatriz\tde\tforma\taleatória.\n",
    "- ### Varie\to\tnível\tde\truído,\tde\t0\ta\t50%\t(em\tpassos\tde\t5%)\te\tavalie\tcomo\tmuda\ta\tclassificação.\tConstrua\tum\tgráfico\tde\tX% de\truído versus\tporcentagem\tde\tclassificação\tcorreta.\tColoque\ta\tmédia\te\to\tdesvio\tpadrão\tcalculados\ta\tpartir\tde\tao\tmenos\t10\tsimulações.\tConsidere\t70%\tdos\tdados\tno\tconjunto\tde\ttreinamento.\n",
    "- ### Discuta os\tresultados."
   ]
  },
  {
   "cell_type": "code",
   "execution_count": null,
   "metadata": {},
   "outputs": [],
   "source": []
  },
  {
   "cell_type": "markdown",
   "metadata": {},
   "source": [
    "## 8\t– No\tcaso\tdo\tclassificador\tNaive\tBayes,\té\tpossível\tconsiderar\tdiferentes\tfunções\tpara\testimar\tas\tprobabilidades.\tCompare\tos\tcasos:\t(i)\tGaussian\tNaive\tBayes,\t(ii)\tmultinomial\tNaive\tBayes e\t(iii) Bernoulli\tNaive\tBayes.\tConsidere\tos\tcasos\tcom\te\tsem\tpadronização."
   ]
  },
  {
   "cell_type": "code",
   "execution_count": null,
   "metadata": {},
   "outputs": [],
   "source": []
  },
  {
   "cell_type": "markdown",
   "metadata": {},
   "source": [
    "## 9\t– No\tcaso\tdo\tKnn,\tcompare\tas\tclassificações\tusando\tdiferentes\tmétricas.\tVarie k\te\tmostre\tas\tcurvas\t(em\tum\tmesmo\tplot)\tpara\tas\tdistâncias\teuclidiana,\tManhattan,\tChebyshev e\tMinkowsky\t(p=0.5,\tp=1.5,\tp\t=\t3)."
   ]
  },
  {
   "cell_type": "code",
   "execution_count": null,
   "metadata": {},
   "outputs": [],
   "source": []
  },
  {
   "cell_type": "markdown",
   "metadata": {},
   "source": [
    "## 10\t– Faça\tum\tgráfico\tda\tfração\tde\telementos\tno\tconjunto\tde\ttreinamento\t(10%\taté\t90%\tem\tpassos\tde\t10%)\tversus\tacurácia\tpara\tos\tclassificadores:\n",
    "- ### knn\t(melhor\tk\tobservado\tanteriormente)\n",
    "- ### Naive\tBayes\n",
    "- ### Decisão\tBayesiana\n",
    "## Considere\tos\tcasos\tcom\te\tsem\tpadronização."
   ]
  },
  {
   "cell_type": "code",
   "execution_count": null,
   "metadata": {},
   "outputs": [],
   "source": []
  }
 ],
 "metadata": {
  "kernelspec": {
   "display_name": "Python 3",
   "language": "python",
   "name": "python3"
  },
  "language_info": {
   "codemirror_mode": {
    "name": "ipython",
    "version": 3
   },
   "file_extension": ".py",
   "mimetype": "text/x-python",
   "name": "python",
   "nbconvert_exporter": "python",
   "pygments_lexer": "ipython3",
   "version": "3.7.1"
  }
 },
 "nbformat": 4,
 "nbformat_minor": 2
}
